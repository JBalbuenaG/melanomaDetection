{
 "cells": [
  {
   "cell_type": "code",
   "execution_count": 1,
   "metadata": {},
   "outputs": [
    {
     "data": {
      "text/html": [
       "<div>\n",
       "<style scoped>\n",
       "    .dataframe tbody tr th:only-of-type {\n",
       "        vertical-align: middle;\n",
       "    }\n",
       "\n",
       "    .dataframe tbody tr th {\n",
       "        vertical-align: top;\n",
       "    }\n",
       "\n",
       "    .dataframe thead th {\n",
       "        text-align: right;\n",
       "    }\n",
       "</style>\n",
       "<table border=\"1\" class=\"dataframe\">\n",
       "  <thead>\n",
       "    <tr style=\"text-align: right;\">\n",
       "      <th></th>\n",
       "      <th>ID</th>\n",
       "      <th>target</th>\n",
       "    </tr>\n",
       "  </thead>\n",
       "  <tbody>\n",
       "    <tr>\n",
       "      <th>0</th>\n",
       "      <td>74af677890d8bfe17862bd88d5ee9ae4</td>\n",
       "      <td>0</td>\n",
       "    </tr>\n",
       "    <tr>\n",
       "      <th>1</th>\n",
       "      <td>5bc34402bd6d659769c7ea7462a86e28</td>\n",
       "      <td>0</td>\n",
       "    </tr>\n",
       "    <tr>\n",
       "      <th>2</th>\n",
       "      <td>1f906576418344aaf94505d4557bc6ff</td>\n",
       "      <td>0</td>\n",
       "    </tr>\n",
       "    <tr>\n",
       "      <th>3</th>\n",
       "      <td>6a00e0e0d571683c3f246b0c186e2266</td>\n",
       "      <td>0</td>\n",
       "    </tr>\n",
       "    <tr>\n",
       "      <th>4</th>\n",
       "      <td>d91d84c40c5e8930c64854bcd0c3b977</td>\n",
       "      <td>0</td>\n",
       "    </tr>\n",
       "  </tbody>\n",
       "</table>\n",
       "</div>"
      ],
      "text/plain": [
       "                                 ID  target\n",
       "0  74af677890d8bfe17862bd88d5ee9ae4       0\n",
       "1  5bc34402bd6d659769c7ea7462a86e28       0\n",
       "2  1f906576418344aaf94505d4557bc6ff       0\n",
       "3  6a00e0e0d571683c3f246b0c186e2266       0\n",
       "4  d91d84c40c5e8930c64854bcd0c3b977       0"
      ]
     },
     "execution_count": 1,
     "metadata": {},
     "output_type": "execute_result"
    }
   ],
   "source": [
    "import pandas as pd\n",
    "\n",
    "df = pd.read_csv('train.csv')\n",
    "df.head()"
   ]
  },
  {
   "cell_type": "code",
   "execution_count": 2,
   "metadata": {},
   "outputs": [
    {
     "data": {
      "text/html": [
       "<div>\n",
       "<style scoped>\n",
       "    .dataframe tbody tr th:only-of-type {\n",
       "        vertical-align: middle;\n",
       "    }\n",
       "\n",
       "    .dataframe tbody tr th {\n",
       "        vertical-align: top;\n",
       "    }\n",
       "\n",
       "    .dataframe thead th {\n",
       "        text-align: right;\n",
       "    }\n",
       "</style>\n",
       "<table border=\"1\" class=\"dataframe\">\n",
       "  <thead>\n",
       "    <tr style=\"text-align: right;\">\n",
       "      <th></th>\n",
       "      <th>ID</th>\n",
       "      <th>target</th>\n",
       "    </tr>\n",
       "  </thead>\n",
       "  <tbody>\n",
       "    <tr>\n",
       "      <th>0</th>\n",
       "      <td>74af677890d8bfe17862bd88d5ee9ae4.jpg</td>\n",
       "      <td>0</td>\n",
       "    </tr>\n",
       "    <tr>\n",
       "      <th>1</th>\n",
       "      <td>5bc34402bd6d659769c7ea7462a86e28.jpg</td>\n",
       "      <td>0</td>\n",
       "    </tr>\n",
       "    <tr>\n",
       "      <th>2</th>\n",
       "      <td>1f906576418344aaf94505d4557bc6ff.jpg</td>\n",
       "      <td>0</td>\n",
       "    </tr>\n",
       "    <tr>\n",
       "      <th>3</th>\n",
       "      <td>6a00e0e0d571683c3f246b0c186e2266.jpg</td>\n",
       "      <td>0</td>\n",
       "    </tr>\n",
       "    <tr>\n",
       "      <th>4</th>\n",
       "      <td>d91d84c40c5e8930c64854bcd0c3b977.jpg</td>\n",
       "      <td>0</td>\n",
       "    </tr>\n",
       "  </tbody>\n",
       "</table>\n",
       "</div>"
      ],
      "text/plain": [
       "                                     ID  target\n",
       "0  74af677890d8bfe17862bd88d5ee9ae4.jpg       0\n",
       "1  5bc34402bd6d659769c7ea7462a86e28.jpg       0\n",
       "2  1f906576418344aaf94505d4557bc6ff.jpg       0\n",
       "3  6a00e0e0d571683c3f246b0c186e2266.jpg       0\n",
       "4  d91d84c40c5e8930c64854bcd0c3b977.jpg       0"
      ]
     },
     "execution_count": 2,
     "metadata": {},
     "output_type": "execute_result"
    }
   ],
   "source": [
    "df['ID']=df['ID']+'.jpg'\n",
    "df.head()"
   ]
  },
  {
   "cell_type": "code",
   "execution_count": 3,
   "metadata": {},
   "outputs": [
    {
     "data": {
      "text/plain": [
       "0    22779\n",
       "1      409\n",
       "Name: target, dtype: int64"
      ]
     },
     "execution_count": 3,
     "metadata": {},
     "output_type": "execute_result"
    }
   ],
   "source": [
    "df['target'].value_counts()"
   ]
  },
  {
   "cell_type": "code",
   "execution_count": 4,
   "metadata": {},
   "outputs": [
    {
     "data": {
      "text/plain": [
       "4090"
      ]
     },
     "execution_count": 4,
     "metadata": {},
     "output_type": "execute_result"
    }
   ],
   "source": [
    "df_melanoma = df[df['target']==1].copy()\n",
    "#Upsampling hasta el de muestas\n",
    "df_melanoma = df_melanoma.sample(int(df_melanoma.shape[0]*10), replace=True)\n",
    "df_melanoma.shape[0]"
   ]
  },
  {
   "cell_type": "code",
   "execution_count": 5,
   "metadata": {},
   "outputs": [
    {
     "data": {
      "text/plain": [
       "4555"
      ]
     },
     "execution_count": 5,
     "metadata": {},
     "output_type": "execute_result"
    }
   ],
   "source": [
    "df_no_melanoma = df[df['target']==0].copy()\n",
    "df_no_melanoma = df_no_melanoma.sample(int(df_no_melanoma.shape[0]*0.20), replace=True)\n",
    "df_no_melanoma.shape[0]"
   ]
  },
  {
   "cell_type": "code",
   "execution_count": 6,
   "metadata": {},
   "outputs": [
    {
     "name": "stdout",
     "output_type": "stream",
     "text": [
      "(3272, 2)\n",
      "(818, 2)\n"
     ]
    }
   ],
   "source": [
    "from sklearn.model_selection import train_test_split\n",
    "rnd_seed = 0\n",
    "df_train_true, df_test_true = train_test_split(df_melanoma,test_size=0.2, random_state=rnd_seed)\n",
    "print(df_train_true.shape)\n",
    "print(df_test_true.shape)"
   ]
  },
  {
   "cell_type": "code",
   "execution_count": 7,
   "metadata": {
    "scrolled": true
   },
   "outputs": [
    {
     "name": "stdout",
     "output_type": "stream",
     "text": [
      "(3644, 2)\n",
      "(911, 2)\n"
     ]
    }
   ],
   "source": [
    "df_train_false, df_test_false = train_test_split(df_no_melanoma,test_size=0.2, random_state=rnd_seed)\n",
    "print(df_train_false.shape)\n",
    "print(df_test_false.shape)"
   ]
  },
  {
   "cell_type": "code",
   "execution_count": 16,
   "metadata": {},
   "outputs": [],
   "source": [
    "import shutil, os\n",
    "\n",
    "img_orig = './train/train/'\n",
    "img_dest = './data/test/melanoma/'\n",
    "i=0\n",
    "for file in list(df_test_true['ID']):\n",
    "    name = img_dest+'test_melanoma_'+str(i)+'.jpg'\n",
    "    shutil.copy(img_orig+file, name)\n",
    "    i +=1\n",
    "    #print(img_orig+file)\n",
    "    #break"
   ]
  },
  {
   "cell_type": "code",
   "execution_count": 17,
   "metadata": {},
   "outputs": [],
   "source": [
    "img_orig = './train/train/'\n",
    "img_dest = './data/test/no_melanoma/'\n",
    "i=0\n",
    "for file in list(df_test_false['ID']):\n",
    "    name = img_dest+'test_no_melanoma_'+str(i)+'.jpg'\n",
    "    shutil.copy(img_orig+file, name)\n",
    "    i +=1"
   ]
  },
  {
   "cell_type": "code",
   "execution_count": 18,
   "metadata": {},
   "outputs": [],
   "source": [
    "img_orig = './train/train/'\n",
    "img_dest = './data/train/melanoma/'\n",
    "i=0\n",
    "for file in list(df_train_true['ID']):\n",
    "    name = img_dest+'train_melanoma_'+str(i)+'.jpg'\n",
    "    shutil.copy(img_orig+file, name)\n",
    "    i+=1"
   ]
  },
  {
   "cell_type": "code",
   "execution_count": 19,
   "metadata": {},
   "outputs": [],
   "source": [
    "img_orig = './train/train/'\n",
    "img_dest = './data/train/no_melanoma/'\n",
    "i=0\n",
    "for file in list(df_train_false['ID']):\n",
    "    name = img_dest+'train_no_melanoma_'+str(i)+'.jpg'\n",
    "    shutil.copy(img_orig+file, name)\n",
    "    i+=1"
   ]
  },
  {
   "cell_type": "code",
   "execution_count": null,
   "metadata": {},
   "outputs": [],
   "source": []
  },
  {
   "cell_type": "code",
   "execution_count": null,
   "metadata": {},
   "outputs": [],
   "source": []
  },
  {
   "cell_type": "code",
   "execution_count": null,
   "metadata": {},
   "outputs": [],
   "source": []
  },
  {
   "cell_type": "code",
   "execution_count": null,
   "metadata": {},
   "outputs": [],
   "source": []
  }
 ],
 "metadata": {
  "kernelspec": {
   "display_name": "env_covid",
   "language": "python",
   "name": "env_covid"
  },
  "language_info": {
   "codemirror_mode": {
    "name": "ipython",
    "version": 3
   },
   "file_extension": ".py",
   "mimetype": "text/x-python",
   "name": "python",
   "nbconvert_exporter": "python",
   "pygments_lexer": "ipython3",
   "version": "3.7.7"
  }
 },
 "nbformat": 4,
 "nbformat_minor": 4
}
