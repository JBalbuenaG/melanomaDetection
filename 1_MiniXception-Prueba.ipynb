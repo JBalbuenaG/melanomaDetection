{
 "cells": [
  {
   "cell_type": "code",
   "execution_count": 1,
   "metadata": {},
   "outputs": [],
   "source": [
    "from glob import glob\n",
    "\n",
    "import numpy as np\n",
    "import pandas as pd\n",
    "import matplotlib.pyplot as plt\n",
    "import sys, os\n",
    "\n",
    "from tensorflow.keras.layers import Input, Dense, Flatten, Dropout\n",
    "from tensorflow.keras.applications.vgg16 import VGG16 as PretrainedModel, \\\n",
    "  preprocess_input\n",
    "from tensorflow.keras.models import Model\n",
    "from tensorflow.keras.optimizers import SGD, Adam\n",
    "from tensorflow.keras.preprocessing import image\n",
    "from tensorflow.keras.preprocessing.image import ImageDataGenerator\n",
    "\n",
    "train_path = './data/train'\n",
    "valid_path = './data/test'\n",
    "train_image_files = glob(train_path +'/*/*.jpg')\n",
    "valid_image_files = glob(valid_path +'/*/*.jpg')"
   ]
  },
  {
   "cell_type": "code",
   "execution_count": 2,
   "metadata": {},
   "outputs": [
    {
     "name": "stdout",
     "output_type": "stream",
     "text": [
      "['./data/train\\\\melanoma', './data/train\\\\no_melanoma']\n"
     ]
    }
   ],
   "source": [
    "folders = glob(train_path + '/*')\n",
    "print(folders)"
   ]
  },
  {
   "cell_type": "code",
   "execution_count": 3,
   "metadata": {},
   "outputs": [],
   "source": [
    "IMAGE_SIZE = [150, 150]\n",
    "#Se crea un Image Generator \n",
    "gen = ImageDataGenerator()"
   ]
  },
  {
   "cell_type": "code",
   "execution_count": 4,
   "metadata": {},
   "outputs": [
    {
     "name": "stdout",
     "output_type": "stream",
     "text": [
      "Found 6916 images belonging to 2 classes.\n",
      "Found 1729 images belonging to 2 classes.\n"
     ]
    }
   ],
   "source": [
    "#Generador para el conjunto de entrenamiento\n",
    "batch_size = 32\n",
    "\n",
    "train_generator = gen.flow_from_directory(\n",
    "    train_path,\n",
    "    target_size=IMAGE_SIZE,\n",
    "    batch_size=batch_size,\n",
    "    class_mode = 'binary'\n",
    ")\n",
    "# Generador para el conjunto de validación\n",
    "valid_generator = gen.flow_from_directory(\n",
    "    valid_path,\n",
    "    target_size=IMAGE_SIZE,\n",
    "    batch_size=batch_size,\n",
    "    class_mode = 'binary'\n",
    ")"
   ]
  },
  {
   "cell_type": "code",
   "execution_count": 5,
   "metadata": {},
   "outputs": [],
   "source": [
    "from tensorflow.keras.layers import Activation, Convolution2D, Dropout, Conv2D\n",
    "from tensorflow.keras.layers import AveragePooling2D, BatchNormalization\n",
    "from tensorflow.keras.layers import GlobalAveragePooling2D\n",
    "from tensorflow.keras.models import Sequential\n",
    "from tensorflow.keras.layers import Flatten\n",
    "from tensorflow.keras.models import Model\n",
    "from tensorflow.keras.layers import Input\n",
    "from tensorflow.keras.layers import MaxPooling2D\n",
    "from tensorflow.keras.layers import SeparableConv2D\n",
    "from tensorflow.keras import layers\n",
    "from tensorflow.keras.regularizers import l2"
   ]
  },
  {
   "cell_type": "code",
   "execution_count": 6,
   "metadata": {},
   "outputs": [],
   "source": [
    "#Modeo mi-Xception extraido de (https://github.com/oarriaga/face_classification/tree/master/src/models)\n",
    "def mini_XCEPTION(input_shape, num_classes, l2_regularization=0.01):\n",
    "    regularization = l2(l2_regularization)\n",
    "\n",
    "    # base\n",
    "    img_input = Input(input_shape)\n",
    "    x = Conv2D(8, (3, 3), strides=(1, 1), kernel_regularizer=regularization,\n",
    "               use_bias=False)(img_input)\n",
    "    x = BatchNormalization()(x)\n",
    "    x = Activation('relu')(x)\n",
    "    x = Conv2D(8, (3, 3), strides=(1, 1), kernel_regularizer=regularization,\n",
    "               use_bias=False)(x)\n",
    "    x = BatchNormalization()(x)\n",
    "    x = Activation('relu')(x)\n",
    "\n",
    "    # module 1\n",
    "    residual = Conv2D(16, (1, 1), strides=(2, 2),\n",
    "                      padding='same', use_bias=False)(x)\n",
    "    residual = BatchNormalization()(residual)\n",
    "\n",
    "    x = SeparableConv2D(16, (3, 3), padding='same',\n",
    "                        kernel_regularizer=regularization,\n",
    "                        use_bias=False)(x)\n",
    "    x = BatchNormalization()(x)\n",
    "    x = Activation('relu')(x)\n",
    "    x = SeparableConv2D(16, (3, 3), padding='same',\n",
    "                        kernel_regularizer=regularization,\n",
    "                        use_bias=False)(x)\n",
    "    x = BatchNormalization()(x)\n",
    "\n",
    "    x = MaxPooling2D((3, 3), strides=(2, 2), padding='same')(x)\n",
    "    x = layers.add([x, residual])\n",
    "\n",
    "    # module 2\n",
    "    residual = Conv2D(32, (1, 1), strides=(2, 2),\n",
    "                      padding='same', use_bias=False)(x)\n",
    "    residual = BatchNormalization()(residual)\n",
    "\n",
    "    x = SeparableConv2D(32, (3, 3), padding='same',\n",
    "                        kernel_regularizer=regularization,\n",
    "                        use_bias=False)(x)\n",
    "    x = BatchNormalization()(x)\n",
    "    x = Activation('relu')(x)\n",
    "    x = SeparableConv2D(32, (3, 3), padding='same',\n",
    "                        kernel_regularizer=regularization,\n",
    "                        use_bias=False)(x)\n",
    "    x = BatchNormalization()(x)\n",
    "\n",
    "    x = MaxPooling2D((3, 3), strides=(2, 2), padding='same')(x)\n",
    "    x = layers.add([x, residual])\n",
    "\n",
    "    # module 3\n",
    "    residual = Conv2D(64, (1, 1), strides=(2, 2),\n",
    "                      padding='same', use_bias=False)(x)\n",
    "    residual = BatchNormalization()(residual)\n",
    "\n",
    "    x = SeparableConv2D(64, (3, 3), padding='same',\n",
    "                        kernel_regularizer=regularization,\n",
    "                        use_bias=False)(x)\n",
    "    x = BatchNormalization()(x)\n",
    "    x = Activation('relu')(x)\n",
    "    x = SeparableConv2D(64, (3, 3), padding='same',\n",
    "                        kernel_regularizer=regularization,\n",
    "                        use_bias=False)(x)\n",
    "    x = BatchNormalization()(x)\n",
    "\n",
    "    x = MaxPooling2D((3, 3), strides=(2, 2), padding='same')(x)\n",
    "    x = layers.add([x, residual])\n",
    "\n",
    "    # module 4\n",
    "    residual = Conv2D(128, (1, 1), strides=(2, 2),\n",
    "                      padding='same', use_bias=False)(x)\n",
    "    residual = BatchNormalization()(residual)\n",
    "\n",
    "    x = SeparableConv2D(128, (3, 3), padding='same',\n",
    "                        kernel_regularizer=regularization,\n",
    "                        use_bias=False)(x)\n",
    "    x = BatchNormalization()(x)\n",
    "    x = Activation('relu')(x)\n",
    "    x = SeparableConv2D(128, (3, 3), padding='same',\n",
    "                        kernel_regularizer=regularization,\n",
    "                        use_bias=False)(x)\n",
    "    x = BatchNormalization()(x)\n",
    "\n",
    "    x = MaxPooling2D((3, 3), strides=(2, 2), padding='same')(x)\n",
    "    x = layers.add([x, residual])\n",
    "\n",
    "    x = Conv2D(num_classes, (3, 3),\n",
    "               # kernel_regularizer=regularization,\n",
    "               padding='same')(x)\n",
    "    x = GlobalAveragePooling2D()(x)\n",
    "    output = Activation('sigmoid', name='predictions')(x)\n",
    "\n",
    "    model = Model(img_input, output)\n",
    "    return model"
   ]
  },
  {
   "cell_type": "code",
   "execution_count": 7,
   "metadata": {},
   "outputs": [
    {
     "name": "stdout",
     "output_type": "stream",
     "text": [
      "Model: \"model\"\n",
      "__________________________________________________________________________________________________\n",
      "Layer (type)                    Output Shape         Param #     Connected to                     \n",
      "==================================================================================================\n",
      "input_1 (InputLayer)            [(None, 150, 150, 3) 0                                            \n",
      "__________________________________________________________________________________________________\n",
      "conv2d (Conv2D)                 (None, 148, 148, 8)  216         input_1[0][0]                    \n",
      "__________________________________________________________________________________________________\n",
      "batch_normalization (BatchNorma (None, 148, 148, 8)  32          conv2d[0][0]                     \n",
      "__________________________________________________________________________________________________\n",
      "activation (Activation)         (None, 148, 148, 8)  0           batch_normalization[0][0]        \n",
      "__________________________________________________________________________________________________\n",
      "conv2d_1 (Conv2D)               (None, 146, 146, 8)  576         activation[0][0]                 \n",
      "__________________________________________________________________________________________________\n",
      "batch_normalization_1 (BatchNor (None, 146, 146, 8)  32          conv2d_1[0][0]                   \n",
      "__________________________________________________________________________________________________\n",
      "activation_1 (Activation)       (None, 146, 146, 8)  0           batch_normalization_1[0][0]      \n",
      "__________________________________________________________________________________________________\n",
      "separable_conv2d (SeparableConv (None, 146, 146, 16) 200         activation_1[0][0]               \n",
      "__________________________________________________________________________________________________\n",
      "batch_normalization_3 (BatchNor (None, 146, 146, 16) 64          separable_conv2d[0][0]           \n",
      "__________________________________________________________________________________________________\n",
      "activation_2 (Activation)       (None, 146, 146, 16) 0           batch_normalization_3[0][0]      \n",
      "__________________________________________________________________________________________________\n",
      "separable_conv2d_1 (SeparableCo (None, 146, 146, 16) 400         activation_2[0][0]               \n",
      "__________________________________________________________________________________________________\n",
      "batch_normalization_4 (BatchNor (None, 146, 146, 16) 64          separable_conv2d_1[0][0]         \n",
      "__________________________________________________________________________________________________\n",
      "conv2d_2 (Conv2D)               (None, 73, 73, 16)   128         activation_1[0][0]               \n",
      "__________________________________________________________________________________________________\n",
      "max_pooling2d (MaxPooling2D)    (None, 73, 73, 16)   0           batch_normalization_4[0][0]      \n",
      "__________________________________________________________________________________________________\n",
      "batch_normalization_2 (BatchNor (None, 73, 73, 16)   64          conv2d_2[0][0]                   \n",
      "__________________________________________________________________________________________________\n",
      "add (Add)                       (None, 73, 73, 16)   0           max_pooling2d[0][0]              \n",
      "                                                                 batch_normalization_2[0][0]      \n",
      "__________________________________________________________________________________________________\n",
      "separable_conv2d_2 (SeparableCo (None, 73, 73, 32)   656         add[0][0]                        \n",
      "__________________________________________________________________________________________________\n",
      "batch_normalization_6 (BatchNor (None, 73, 73, 32)   128         separable_conv2d_2[0][0]         \n",
      "__________________________________________________________________________________________________\n",
      "activation_3 (Activation)       (None, 73, 73, 32)   0           batch_normalization_6[0][0]      \n",
      "__________________________________________________________________________________________________\n",
      "separable_conv2d_3 (SeparableCo (None, 73, 73, 32)   1312        activation_3[0][0]               \n",
      "__________________________________________________________________________________________________\n",
      "batch_normalization_7 (BatchNor (None, 73, 73, 32)   128         separable_conv2d_3[0][0]         \n",
      "__________________________________________________________________________________________________\n",
      "conv2d_3 (Conv2D)               (None, 37, 37, 32)   512         add[0][0]                        \n",
      "__________________________________________________________________________________________________\n",
      "max_pooling2d_1 (MaxPooling2D)  (None, 37, 37, 32)   0           batch_normalization_7[0][0]      \n",
      "__________________________________________________________________________________________________\n",
      "batch_normalization_5 (BatchNor (None, 37, 37, 32)   128         conv2d_3[0][0]                   \n",
      "__________________________________________________________________________________________________\n",
      "add_1 (Add)                     (None, 37, 37, 32)   0           max_pooling2d_1[0][0]            \n",
      "                                                                 batch_normalization_5[0][0]      \n",
      "__________________________________________________________________________________________________\n",
      "separable_conv2d_4 (SeparableCo (None, 37, 37, 64)   2336        add_1[0][0]                      \n",
      "__________________________________________________________________________________________________\n",
      "batch_normalization_9 (BatchNor (None, 37, 37, 64)   256         separable_conv2d_4[0][0]         \n",
      "__________________________________________________________________________________________________\n",
      "activation_4 (Activation)       (None, 37, 37, 64)   0           batch_normalization_9[0][0]      \n",
      "__________________________________________________________________________________________________\n",
      "separable_conv2d_5 (SeparableCo (None, 37, 37, 64)   4672        activation_4[0][0]               \n",
      "__________________________________________________________________________________________________\n",
      "batch_normalization_10 (BatchNo (None, 37, 37, 64)   256         separable_conv2d_5[0][0]         \n",
      "__________________________________________________________________________________________________\n",
      "conv2d_4 (Conv2D)               (None, 19, 19, 64)   2048        add_1[0][0]                      \n",
      "__________________________________________________________________________________________________\n",
      "max_pooling2d_2 (MaxPooling2D)  (None, 19, 19, 64)   0           batch_normalization_10[0][0]     \n",
      "__________________________________________________________________________________________________\n",
      "batch_normalization_8 (BatchNor (None, 19, 19, 64)   256         conv2d_4[0][0]                   \n",
      "__________________________________________________________________________________________________\n",
      "add_2 (Add)                     (None, 19, 19, 64)   0           max_pooling2d_2[0][0]            \n",
      "                                                                 batch_normalization_8[0][0]      \n",
      "__________________________________________________________________________________________________\n",
      "separable_conv2d_6 (SeparableCo (None, 19, 19, 128)  8768        add_2[0][0]                      \n",
      "__________________________________________________________________________________________________\n",
      "batch_normalization_12 (BatchNo (None, 19, 19, 128)  512         separable_conv2d_6[0][0]         \n",
      "__________________________________________________________________________________________________\n",
      "activation_5 (Activation)       (None, 19, 19, 128)  0           batch_normalization_12[0][0]     \n",
      "__________________________________________________________________________________________________\n",
      "separable_conv2d_7 (SeparableCo (None, 19, 19, 128)  17536       activation_5[0][0]               \n",
      "__________________________________________________________________________________________________\n",
      "batch_normalization_13 (BatchNo (None, 19, 19, 128)  512         separable_conv2d_7[0][0]         \n",
      "__________________________________________________________________________________________________\n",
      "conv2d_5 (Conv2D)               (None, 10, 10, 128)  8192        add_2[0][0]                      \n",
      "__________________________________________________________________________________________________\n",
      "max_pooling2d_3 (MaxPooling2D)  (None, 10, 10, 128)  0           batch_normalization_13[0][0]     \n",
      "__________________________________________________________________________________________________\n",
      "batch_normalization_11 (BatchNo (None, 10, 10, 128)  512         conv2d_5[0][0]                   \n",
      "__________________________________________________________________________________________________\n",
      "add_3 (Add)                     (None, 10, 10, 128)  0           max_pooling2d_3[0][0]            \n",
      "                                                                 batch_normalization_11[0][0]     \n",
      "__________________________________________________________________________________________________\n",
      "conv2d_6 (Conv2D)               (None, 10, 10, 1)    1153        add_3[0][0]                      \n",
      "__________________________________________________________________________________________________\n",
      "global_average_pooling2d (Globa (None, 1)            0           conv2d_6[0][0]                   \n",
      "__________________________________________________________________________________________________\n",
      "predictions (Activation)        (None, 1)            0           global_average_pooling2d[0][0]   \n",
      "==================================================================================================\n",
      "Total params: 51,649\n",
      "Trainable params: 50,177\n",
      "Non-trainable params: 1,472\n",
      "__________________________________________________________________________________________________\n"
     ]
    }
   ],
   "source": [
    "#Instancia del modelo 1: mini_XCEPTION\n",
    "miniXception = mini_XCEPTION(input_shape=(150,150,3), num_classes=1)\n",
    "miniXception.summary()"
   ]
  },
  {
   "cell_type": "code",
   "execution_count": 8,
   "metadata": {},
   "outputs": [],
   "source": [
    "import tensorflow as tf\n",
    "from tensorflow.keras.layers import Dropout\n",
    "from tensorflow.keras.callbacks import ReduceLROnPlateau, EarlyStopping\n",
    "from tensorflow.keras.optimizers import Adam\n",
    "\n",
    "METRICS = [\n",
    "      tf.keras.metrics.TruePositives(name='tp'),\n",
    "      tf.keras.metrics.FalsePositives(name='fp'),\n",
    "      tf.keras.metrics.TrueNegatives(name='tn'),\n",
    "      tf.keras.metrics.FalseNegatives(name='fn'), \n",
    "      tf.keras.metrics.BinaryAccuracy(name='accuracy'),\n",
    "      tf.keras.metrics.Precision(name='precision'),\n",
    "      tf.keras.metrics.Recall(name='recall'),\n",
    "      tf.keras.metrics.AUC(name='auc'),\n",
    "]\n",
    "\n",
    "\n",
    "#Callabacks\n",
    "patience = 10\n",
    "early_stop = EarlyStopping('val_loss',patience=patience)\n",
    "reduce_lr = ReduceLROnPlateau('val_loss',factor=0.1, patience=int(patience/4), verbose=1)\n",
    "callbacks = [early_stop, reduce_lr]\n",
    "\n",
    "miniXception.compile(optimizer='adam', \n",
    "                     loss='binary_crossentropy', \n",
    "                     metrics=METRICS)"
   ]
  },
  {
   "cell_type": "code",
   "execution_count": 9,
   "metadata": {},
   "outputs": [
    {
     "name": "stdout",
     "output_type": "stream",
     "text": [
      "Epoch 1/20\n",
      "217/217 [==============================] - 129s 557ms/step - loss: 0.6559 - tp: 2529.0000 - fp: 830.0000 - tn: 2442.0000 - fn: 1115.0000 - accuracy: 0.7188 - precision: 0.7529 - recall: 0.6940 - auc: 0.7821 - val_loss: 0.7938 - val_tp: 898.0000 - val_fp: 768.0000 - val_tn: 50.0000 - val_fn: 13.0000 - val_accuracy: 0.5483 - val_precision: 0.5390 - val_recall: 0.9857 - val_auc: 0.6377\n",
      "Epoch 2/20\n",
      "217/217 [==============================] - 121s 555ms/step - loss: 0.5528 - tp: 2731.0000 - fp: 690.0000 - tn: 2582.0000 - fn: 913.0000 - accuracy: 0.7682 - precision: 0.7983 - recall: 0.7495 - auc: 0.8446 - val_loss: 0.6499 - val_tp: 856.0000 - val_fp: 599.0000 - val_tn: 219.0000 - val_fn: 55.0000 - val_accuracy: 0.6217 - val_precision: 0.5883 - val_recall: 0.9396 - val_auc: 0.8324\n",
      "Epoch 3/20\n",
      "217/217 [==============================] - 122s 560ms/step - loss: 0.5075 - tp: 2797.0000 - fp: 680.0000 - tn: 2592.0000 - fn: 847.0000 - accuracy: 0.7792 - precision: 0.8044 - recall: 0.7676 - auc: 0.8656 - val_loss: 0.5453 - val_tp: 558.0000 - val_fp: 106.0000 - val_tn: 712.0000 - val_fn: 353.0000 - val_accuracy: 0.7345 - val_precision: 0.8404 - val_recall: 0.6125 - val_auc: 0.8562\n",
      "Epoch 4/20\n",
      "217/217 [==============================] - 120s 552ms/step - loss: 0.4715 - tp: 2909.0000 - fp: 598.0000 - tn: 2674.0000 - fn: 735.0000 - accuracy: 0.8073 - precision: 0.8295 - recall: 0.7983 - auc: 0.8824 - val_loss: 0.4952 - val_tp: 748.0000 - val_fp: 202.0000 - val_tn: 616.0000 - val_fn: 163.0000 - val_accuracy: 0.7889 - val_precision: 0.7874 - val_recall: 0.8211 - val_auc: 0.8672\n",
      "Epoch 5/20\n",
      "217/217 [==============================] - 123s 565ms/step - loss: 0.4334 - tp: 2962.0000 - fp: 577.0000 - tn: 2695.0000 - fn: 682.0000 - accuracy: 0.8180 - precision: 0.8370 - recall: 0.8128 - auc: 0.8998 - val_loss: 0.5777 - val_tp: 774.0000 - val_fp: 288.0000 - val_tn: 530.0000 - val_fn: 137.0000 - val_accuracy: 0.7542 - val_precision: 0.7288 - val_recall: 0.8496 - val_auc: 0.8198\n",
      "Epoch 6/20\n",
      "217/217 [==============================] - 121s 556ms/step - loss: 0.3920 - tp: 3043.0000 - fp: 475.0000 - tn: 2797.0000 - fn: 601.0000 - accuracy: 0.8444 - precision: 0.8650 - recall: 0.8351 - auc: 0.9195 - val_loss: 0.4069 - val_tp: 833.0000 - val_fp: 205.0000 - val_tn: 613.0000 - val_fn: 78.0000 - val_accuracy: 0.8363 - val_precision: 0.8025 - val_recall: 0.9144 - val_auc: 0.9335\n",
      "Epoch 7/20\n",
      "217/217 [==============================] - 121s 558ms/step - loss: 0.3614 - tp: 3086.0000 - fp: 405.0000 - tn: 2867.0000 - fn: 558.0000 - accuracy: 0.8608 - precision: 0.8840 - recall: 0.8469 - auc: 0.9314 - val_loss: 0.8589 - val_tp: 889.0000 - val_fp: 644.0000 - val_tn: 174.0000 - val_fn: 22.0000 - val_accuracy: 0.6148 - val_precision: 0.5799 - val_recall: 0.9759 - val_auc: 0.8712\n",
      "Epoch 8/20\n",
      "217/217 [==============================] - 122s 560ms/step - loss: 0.3140 - tp: 3178.0000 - fp: 319.0000 - tn: 2953.0000 - fn: 466.0000 - accuracy: 0.8865 - precision: 0.9088 - recall: 0.8721 - auc: 0.9498 - val_loss: 0.4366 - val_tp: 750.0000 - val_fp: 169.0000 - val_tn: 649.0000 - val_fn: 161.0000 - val_accuracy: 0.8091 - val_precision: 0.8161 - val_recall: 0.8233 - val_auc: 0.9014\n",
      "Epoch 9/20\n",
      "217/217 [==============================] - 121s 556ms/step - loss: 0.2693 - tp: 3243.0000 - fp: 279.0000 - tn: 2993.0000 - fn: 401.0000 - accuracy: 0.9017 - precision: 0.9208 - recall: 0.8900 - auc: 0.9645 - val_loss: 0.4613 - val_tp: 649.0000 - val_fp: 38.0000 - val_tn: 780.0000 - val_fn: 262.0000 - val_accuracy: 0.8265 - val_precision: 0.9447 - val_recall: 0.7124 - val_auc: 0.9222\n",
      "Epoch 10/20\n",
      "217/217 [==============================] - 123s 565ms/step - loss: 0.2410 - tp: 3323.0000 - fp: 236.0000 - tn: 3036.0000 - fn: 321.0000 - accuracy: 0.9195 - precision: 0.9337 - recall: 0.9119 - auc: 0.9724 - val_loss: 0.4423 - val_tp: 825.0000 - val_fp: 210.0000 - val_tn: 608.0000 - val_fn: 86.0000 - val_accuracy: 0.8288 - val_precision: 0.7971 - val_recall: 0.9056 - val_auc: 0.9138\n",
      "Epoch 11/20\n",
      "217/217 [==============================] - 130s 600ms/step - loss: 0.2252 - tp: 3322.0000 - fp: 208.0000 - tn: 3064.0000 - fn: 322.0000 - accuracy: 0.9234 - precision: 0.9411 - recall: 0.9116 - auc: 0.9758 - val_loss: 0.3252 - val_tp: 873.0000 - val_fp: 192.0000 - val_tn: 626.0000 - val_fn: 38.0000 - val_accuracy: 0.8670 - val_precision: 0.8197 - val_recall: 0.9583 - val_auc: 0.9634\n",
      "Epoch 12/20\n",
      "217/217 [==============================] - 144s 663ms/step - loss: 0.1932 - tp: 3390.0000 - fp: 186.0000 - tn: 3086.0000 - fn: 254.0000 - accuracy: 0.9364 - precision: 0.9480 - recall: 0.9303 - auc: 0.9835 - val_loss: 0.2514 - val_tp: 799.0000 - val_fp: 47.0000 - val_tn: 771.0000 - val_fn: 112.0000 - val_accuracy: 0.9080 - val_precision: 0.9444 - val_recall: 0.8771 - val_auc: 0.9727\n",
      "Epoch 13/20\n",
      "217/217 [==============================] - 139s 641ms/step - loss: 0.1518 - tp: 3463.0000 - fp: 132.0000 - tn: 3140.0000 - fn: 181.0000 - accuracy: 0.9547 - precision: 0.9633 - recall: 0.9503 - auc: 0.9914 - val_loss: 0.2271 - val_tp: 894.0000 - val_fp: 142.0000 - val_tn: 676.0000 - val_fn: 17.0000 - val_accuracy: 0.9080 - val_precision: 0.8629 - val_recall: 0.9813 - val_auc: 0.9905\n",
      "Epoch 14/20\n",
      "217/217 [==============================] - 144s 662ms/step - loss: 0.1256 - tp: 3501.0000 - fp: 102.0000 - tn: 3170.0000 - fn: 143.0000 - accuracy: 0.9646 - precision: 0.9717 - recall: 0.9608 - auc: 0.9946 - val_loss: 0.8795 - val_tp: 886.0000 - val_fp: 437.0000 - val_tn: 381.0000 - val_fn: 25.0000 - val_accuracy: 0.7328 - val_precision: 0.6697 - val_recall: 0.9726 - val_auc: 0.8982\n",
      "Epoch 15/20\n",
      "217/217 [==============================] - 141s 650ms/step - loss: 0.1464 - tp: 3479.0000 - fp: 132.0000 - tn: 3140.0000 - fn: 165.0000 - accuracy: 0.9571 - precision: 0.9634 - recall: 0.9547 - auc: 0.9911 - val_loss: 0.2503 - val_tp: 825.0000 - val_fp: 66.0000 - val_tn: 752.0000 - val_fn: 86.0000 - val_accuracy: 0.9121 - val_precision: 0.9259 - val_recall: 0.9056 - val_auc: 0.9702\n",
      "Epoch 16/20\n",
      "217/217 [==============================] - 141s 649ms/step - loss: 0.1073 - tp: 3531.0000 - fp: 77.0000 - tn: 3195.0000 - fn: 113.0000 - accuracy: 0.9725 - precision: 0.9787 - recall: 0.9690 - auc: 0.9963 - val_loss: 0.2145 - val_tp: 870.0000 - val_fp: 86.0000 - val_tn: 732.0000 - val_fn: 41.0000 - val_accuracy: 0.9265 - val_precision: 0.9100 - val_recall: 0.9550 - val_auc: 0.9796\n",
      "Epoch 17/20\n",
      "217/217 [==============================] - 133s 608ms/step - loss: 0.0879 - tp: 3557.0000 - fp: 54.0000 - tn: 3218.0000 - fn: 87.0000 - accuracy: 0.9796 - precision: 0.9850 - recall: 0.9761 - auc: 0.9981 - val_loss: 0.1778 - val_tp: 896.0000 - val_fp: 88.0000 - val_tn: 730.0000 - val_fn: 15.0000 - val_accuracy: 0.9404 - val_precision: 0.9106 - val_recall: 0.9835 - val_auc: 0.9924\n",
      "Epoch 18/20\n",
      "217/217 [==============================] - 136s 626ms/step - loss: 0.0928 - tp: 3558.0000 - fp: 88.0000 - tn: 3184.0000 - fn: 86.0000 - accuracy: 0.9748 - precision: 0.9759 - recall: 0.9764 - auc: 0.9973 - val_loss: 0.2289 - val_tp: 875.0000 - val_fp: 105.0000 - val_tn: 713.0000 - val_fn: 36.0000 - val_accuracy: 0.9184 - val_precision: 0.8929 - val_recall: 0.9605 - val_auc: 0.9814\n",
      "Epoch 19/20\n",
      "217/217 [==============================] - 131s 601ms/step - loss: 0.0884 - tp: 3546.0000 - fp: 58.0000 - tn: 3214.0000 - fn: 98.0000 - accuracy: 0.9774 - precision: 0.9839 - recall: 0.9731 - auc: 0.9975 - val_loss: 0.1779 - val_tp: 830.0000 - val_fp: 10.0000 - val_tn: 808.0000 - val_fn: 81.0000 - val_accuracy: 0.9474 - val_precision: 0.9881 - val_recall: 0.9111 - val_auc: 0.9895\n",
      "Epoch 20/20\n",
      "217/217 [==============================] - 133s 612ms/step - loss: 0.1656 - tp: 3471.0000 - fp: 179.0000 - tn: 3093.0000 - fn: 173.0000 - accuracy: 0.9491 - precision: 0.9510 - recall: 0.9525 - auc: 0.9873 - val_loss: 0.3070 - val_tp: 845.0000 - val_fp: 119.0000 - val_tn: 699.0000 - val_fn: 66.0000 - val_accuracy: 0.8930 - val_precision: 0.8766 - val_recall: 0.9276 - val_auc: 0.9603\n"
     ]
    }
   ],
   "source": [
    "log_r = miniXception.fit(train_generator,\n",
    "                         batch_size=32,\n",
    "                         epochs=20, \n",
    "                         verbose=1,\n",
    "                         validation_data=valid_generator)"
   ]
  },
  {
   "cell_type": "code",
   "execution_count": 10,
   "metadata": {},
   "outputs": [
    {
     "data": {
      "image/png": "[encoded data removed]",
      "text/plain": [
       "<Figure size 432x288 with 1 Axes>"
      ]
     },
     "metadata": {
      "needs_background": "light"
     },
     "output_type": "display_data"
    }
   ],
   "source": [
    "from matplotlib import pyplot as plt\n",
    "\n",
    "plt.plot(log_r.history['accuracy'])\n",
    "plt.plot(log_r.history['val_accuracy'])\n",
    "plt.title('model accuracy')\n",
    "plt.ylabel('accuracy')\n",
    "plt.xlabel('epoch')\n",
    "plt.legend(['train', 'val'], loc='upper left')\n",
    "plt.show()"
   ]
  },
  {
   "cell_type": "code",
   "execution_count": 11,
   "metadata": {},
   "outputs": [
    {
     "name": "stderr",
     "output_type": "stream",
     "text": [
      "C:\\Users\\MSI\\Anaconda3\\envs\\env_tesis\\lib\\site-packages\\tensorflow\\python\\keras\\utils\\generic_utils.py:494: CustomMaskWarning: Custom mask layers require a config and must override get_config. When loading, the custom mask layer must be passed to the custom_objects argument.\n",
      "  warnings.warn('Custom mask layers require a config and must override '\n"
     ]
    }
   ],
   "source": [
    "miniXception.save('minixception_150x150.h5')"
   ]
  },
  {
   "cell_type": "code",
   "execution_count": 12,
   "metadata": {},
   "outputs": [],
   "source": [
    "miniXception.save_weights('minixception_150x150')"
   ]
  },
  {
   "cell_type": "code",
   "execution_count": 21,
   "metadata": {},
   "outputs": [
    {
     "data": {
      "text/html": [
       "<div>\n",
       "<style scoped>\n",
       "    .dataframe tbody tr th:only-of-type {\n",
       "        vertical-align: middle;\n",
       "    }\n",
       "\n",
       "    .dataframe tbody tr th {\n",
       "        vertical-align: top;\n",
       "    }\n",
       "\n",
       "    .dataframe thead th {\n",
       "        text-align: right;\n",
       "    }\n",
       "</style>\n",
       "<table border=\"1\" class=\"dataframe\">\n",
       "  <thead>\n",
       "    <tr style=\"text-align: right;\">\n",
       "      <th></th>\n",
       "      <th>ID</th>\n",
       "      <th>riesgo</th>\n",
       "    </tr>\n",
       "  </thead>\n",
       "  <tbody>\n",
       "    <tr>\n",
       "      <th>0</th>\n",
       "      <td>c890196d33d6b569680c6f089bc83b95.jpg</td>\n",
       "      <td>0.5</td>\n",
       "    </tr>\n",
       "    <tr>\n",
       "      <th>1</th>\n",
       "      <td>93ead62bbb22ed4ef466d308fd32476e.jpg</td>\n",
       "      <td>0.5</td>\n",
       "    </tr>\n",
       "    <tr>\n",
       "      <th>2</th>\n",
       "      <td>752ba789481175a51f5f986edae665ac.jpg</td>\n",
       "      <td>0.5</td>\n",
       "    </tr>\n",
       "    <tr>\n",
       "      <th>3</th>\n",
       "      <td>d6428bef7cf365baaeab1584f65ac80b.jpg</td>\n",
       "      <td>0.5</td>\n",
       "    </tr>\n",
       "    <tr>\n",
       "      <th>4</th>\n",
       "      <td>baf3e9e642184e461cf9f7f5b9c0d06e.jpg</td>\n",
       "      <td>0.5</td>\n",
       "    </tr>\n",
       "  </tbody>\n",
       "</table>\n",
       "</div>"
      ],
      "text/plain": [
       "                                     ID  riesgo\n",
       "0  c890196d33d6b569680c6f089bc83b95.jpg     0.5\n",
       "1  93ead62bbb22ed4ef466d308fd32476e.jpg     0.5\n",
       "2  752ba789481175a51f5f986edae665ac.jpg     0.5\n",
       "3  d6428bef7cf365baaeab1584f65ac80b.jpg     0.5\n",
       "4  baf3e9e642184e461cf9f7f5b9c0d06e.jpg     0.5"
      ]
     },
     "execution_count": 21,
     "metadata": {},
     "output_type": "execute_result"
    }
   ],
   "source": [
    "test = pd.read_csv('sample.csv')\n",
    "test['ID']=test['ID']+'.jpg'\n",
    "test.head()"
   ]
  },
  {
   "cell_type": "code",
   "execution_count": null,
   "metadata": {},
   "outputs": [],
   "source": []
  },
  {
   "cell_type": "code",
   "execution_count": 29,
   "metadata": {},
   "outputs": [],
   "source": [
    "\n",
    "path = './test/test/'\n",
    "import cv2\n",
    "prob = []\n",
    "for file in list(test['ID']):\n",
    "    img = cv2.imread(path+file)\n",
    "    img = cv2.cvtColor(img, cv2.COLOR_BGR2RGB)\n",
    "    \n",
    "    res = cv2.resize(img, dsize=(150,150))\n",
    "    x = image.img_to_array(res)\n",
    "    x = np.expand_dims(x, axis=0)\n",
    "    \n",
    "    feat = miniXception.predict(x)\n",
    "    prob.append(feat[0][0])\n",
    "    "
   ]
  },
  {
   "cell_type": "code",
   "execution_count": 30,
   "metadata": {},
   "outputs": [
    {
     "data": {
      "text/html": [
       "<div>\n",
       "<style scoped>\n",
       "    .dataframe tbody tr th:only-of-type {\n",
       "        vertical-align: middle;\n",
       "    }\n",
       "\n",
       "    .dataframe tbody tr th {\n",
       "        vertical-align: top;\n",
       "    }\n",
       "\n",
       "    .dataframe thead th {\n",
       "        text-align: right;\n",
       "    }\n",
       "</style>\n",
       "<table border=\"1\" class=\"dataframe\">\n",
       "  <thead>\n",
       "    <tr style=\"text-align: right;\">\n",
       "      <th></th>\n",
       "      <th>ID</th>\n",
       "      <th>riesgo</th>\n",
       "    </tr>\n",
       "  </thead>\n",
       "  <tbody>\n",
       "    <tr>\n",
       "      <th>9933</th>\n",
       "      <td>a2ad05042cc442972546c81ebf564d17</td>\n",
       "      <td>0.995464</td>\n",
       "    </tr>\n",
       "    <tr>\n",
       "      <th>9934</th>\n",
       "      <td>1cfc9c0844fc8c39c6db211fb57a4b00</td>\n",
       "      <td>1.000000</td>\n",
       "    </tr>\n",
       "    <tr>\n",
       "      <th>9935</th>\n",
       "      <td>4e4deb3e76c2f32011f0c54a83864571</td>\n",
       "      <td>1.000000</td>\n",
       "    </tr>\n",
       "    <tr>\n",
       "      <th>9936</th>\n",
       "      <td>d4d51aaef0b34007705be379219f56f3</td>\n",
       "      <td>1.000000</td>\n",
       "    </tr>\n",
       "    <tr>\n",
       "      <th>9937</th>\n",
       "      <td>48ca1384ceab3f5261dedf80196cef9b</td>\n",
       "      <td>0.999977</td>\n",
       "    </tr>\n",
       "  </tbody>\n",
       "</table>\n",
       "</div>"
      ],
      "text/plain": [
       "                                    ID    riesgo\n",
       "9933  a2ad05042cc442972546c81ebf564d17  0.995464\n",
       "9934  1cfc9c0844fc8c39c6db211fb57a4b00  1.000000\n",
       "9935  4e4deb3e76c2f32011f0c54a83864571  1.000000\n",
       "9936  d4d51aaef0b34007705be379219f56f3  1.000000\n",
       "9937  48ca1384ceab3f5261dedf80196cef9b  0.999977"
      ]
     },
     "execution_count": 30,
     "metadata": {},
     "output_type": "execute_result"
    }
   ],
   "source": [
    "test_2 = pd.read_csv('sample.csv')\n",
    "test_2['riesgo'] = prob\n",
    "test_2.tail(5)"
   ]
  },
  {
   "cell_type": "code",
   "execution_count": 34,
   "metadata": {},
   "outputs": [],
   "source": [
    "test_2['riesgo']=1-test_2['riesgo']"
   ]
  },
  {
   "cell_type": "code",
   "execution_count": 35,
   "metadata": {},
   "outputs": [],
   "source": [
    "test_2.to_csv('test.csv', index=False)"
   ]
  },
  {
   "cell_type": "code",
   "execution_count": null,
   "metadata": {},
   "outputs": [],
   "source": []
  }
 ],
 "metadata": {
  "kernelspec": {
   "display_name": "env_tesis",
   "language": "python",
   "name": "env_tesis"
  },
  "language_info": {
   "codemirror_mode": {
    "name": "ipython",
    "version": 3
   },
   "file_extension": ".py",
   "mimetype": "text/x-python",
   "name": "python",
   "nbconvert_exporter": "python",
   "pygments_lexer": "ipython3",
   "version": "3.8.5"
  }
 },
 "nbformat": 4,
 "nbformat_minor": 4
}
