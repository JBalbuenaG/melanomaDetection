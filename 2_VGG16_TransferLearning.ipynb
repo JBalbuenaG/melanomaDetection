{
 "cells": [
  {
   "cell_type": "code",
   "execution_count": 1,
   "metadata": {},
   "outputs": [],
   "source": [
    "from glob import glob\n",
    "\n",
    "import numpy as np\n",
    "import pandas as pd\n",
    "import matplotlib.pyplot as plt\n",
    "import sys, os\n",
    "\n",
    "from tensorflow.keras.layers import Input, Dense, Flatten, Dropout\n",
    "from tensorflow.keras.applications.vgg16 import VGG16 as PretrainedModel, preprocess_input\n",
    "from tensorflow.keras.models import Model\n",
    "from tensorflow.keras.optimizers import SGD, Adam\n",
    "from tensorflow.keras.preprocessing import image\n",
    "from tensorflow.keras.preprocessing.image import ImageDataGenerator\n",
    "\n",
    "train_path = './data/train'\n",
    "valid_path = './data/test'\n",
    "train_image_files = glob(train_path +'/*/*.jpg')\n",
    "valid_image_files = glob(valid_path +'/*/*.jpg')"
   ]
  },
  {
   "cell_type": "code",
   "execution_count": 2,
   "metadata": {},
   "outputs": [
    {
     "name": "stdout",
     "output_type": "stream",
     "text": [
      "['./data/train\\\\melanoma', './data/train\\\\no_melanoma']\n"
     ]
    }
   ],
   "source": [
    "folders = glob(train_path + '/*')\n",
    "print(folders)"
   ]
  },
  {
   "cell_type": "code",
   "execution_count": 3,
   "metadata": {},
   "outputs": [],
   "source": [
    "IMAGE_SIZE = [150, 150]\n",
    "ptm = PretrainedModel(\n",
    "    input_shape=IMAGE_SIZE+[3],\n",
    "    weights='imagenet',\n",
    "    include_top=False)\n",
    "\n",
    "#freeze pre-trained model weights\n",
    "ptm.trainable = False"
   ]
  },
  {
   "cell_type": "code",
   "execution_count": 4,
   "metadata": {},
   "outputs": [],
   "source": [
    "#map the data into features vectors\n",
    "K = len(folders) #number of classes\n",
    "x = Flatten()(ptm.output)\n",
    "#x = Dense(K,activation='softmax')(x)\n",
    "\n",
    "model = Model(inputs=ptm.input, outputs=x)"
   ]
  },
  {
   "cell_type": "code",
   "execution_count": 5,
   "metadata": {},
   "outputs": [
    {
     "name": "stdout",
     "output_type": "stream",
     "text": [
      "Found 6916 images belonging to 2 classes.\n",
      "Found 1729 images belonging to 2 classes.\n"
     ]
    }
   ],
   "source": [
    "#Generador para el conjunto de entrenamiento\n",
    "batch_size = 16\n",
    "\n",
    "#Se crea un Image Generator \n",
    "gen = ImageDataGenerator(preprocessing_function=preprocess_input)\n",
    "\n",
    "train_generator = gen.flow_from_directory(\n",
    "    train_path,\n",
    "    target_size=IMAGE_SIZE,\n",
    "    batch_size=batch_size,\n",
    "    class_mode = 'binary'\n",
    ")\n",
    "# Generador para el conjunto de validación\n",
    "valid_generator = gen.flow_from_directory(\n",
    "    valid_path,\n",
    "    target_size=IMAGE_SIZE,\n",
    "    batch_size=batch_size,\n",
    "    class_mode = 'binary'\n",
    ")"
   ]
  },
  {
   "cell_type": "code",
   "execution_count": null,
   "metadata": {},
   "outputs": [],
   "source": [
    "N_train = len(train_image_files)\n",
    "N_valid = len(valid_image_files)\n",
    "\n",
    "#figure output size\n",
    "feat = model.predict(np.random.random([1]+IMAGE_SIZE+[3]))\n",
    "D = feat.shape[1]\n",
    "\n",
    "X_train = np.zeros((N_train,D))\n",
    "Y_train = np.zeros(N_train)\n",
    "X_valid = np.zeros((N_valid,D))\n",
    "Y_valid = np.zeros(N_valid)"
   ]
  },
  {
   "cell_type": "code",
   "execution_count": null,
   "metadata": {},
   "outputs": [],
   "source": [
    "i = 0\n",
    "for x, y in train_generator:\n",
    "    D = model.predict(x)\n",
    "     #get features\n",
    "    features = model.predict(x)\n",
    "  \n",
    "    #size of the batch (not always is the size of the batch)\n",
    "    sz = len(y) #nuber of samples on this batch\n",
    "    X_train[i:i+sz]=features\n",
    "    Y_train[i:i+sz]=y\n",
    "\n",
    "    i += sz\n",
    "    if i%1280==0:\n",
    "        print(i)\n",
    "\n",
    "    if i>=N_train:\n",
    "        print('breaking now')\n",
    "        break\n",
    "\n",
    "print(i)"
   ]
  },
  {
   "cell_type": "code",
   "execution_count": null,
   "metadata": {},
   "outputs": [],
   "source": [
    "np.save('X_train_VGG.npy', X_train)\n",
    "np.save('Y_train_VGG.npy', Y_train)"
   ]
  },
  {
   "cell_type": "code",
   "execution_count": null,
   "metadata": {},
   "outputs": [],
   "source": [
    "i = 0\n",
    "for x, y in valid_generator:\n",
    "    D = model.predict(x)\n",
    "     #get features\n",
    "    features = model.predict(x)\n",
    "  \n",
    "    #size of the batch (not always is the size of the batch)\n",
    "    sz = len(y) #nuber of samples on this batch\n",
    "    X_valid[i:i+sz]=features\n",
    "    Y_valid[i:i+sz]=y\n",
    "\n",
    "    i += sz\n",
    "    if i%1280==0:\n",
    "        print(i)\n",
    "\n",
    "    if i>=N_valid:\n",
    "        print('breaking now')\n",
    "        break\n",
    "\n",
    "print(i)"
   ]
  },
  {
   "cell_type": "code",
   "execution_count": null,
   "metadata": {},
   "outputs": [],
   "source": [
    "np.save('X_valid_VGG.npy', X_valid)\n",
    "np.save('Y_valid_VGG.npy', Y_valid)"
   ]
  },
  {
   "cell_type": "code",
   "execution_count": 6,
   "metadata": {},
   "outputs": [],
   "source": [
    "X_train = np.load('X_train_VGG.npy')\n",
    "Y_train = np.load('Y_train_VGG.npy')\n",
    "X_valid = np.load('X_valid_VGG.npy')\n",
    "Y_valid = np.load('Y_valid_VGG.npy')"
   ]
  },
  {
   "cell_type": "code",
   "execution_count": 7,
   "metadata": {},
   "outputs": [],
   "source": [
    "import tensorflow as tf\n",
    "\n",
    "METRICS = [\n",
    "      tf.keras.metrics.TruePositives(name='tp'),\n",
    "      tf.keras.metrics.FalsePositives(name='fp'),\n",
    "      tf.keras.metrics.TrueNegatives(name='tn'),\n",
    "      tf.keras.metrics.FalseNegatives(name='fn'), \n",
    "      tf.keras.metrics.BinaryAccuracy(name='accuracy'),\n",
    "      tf.keras.metrics.Precision(name='precision'),\n",
    "      tf.keras.metrics.Recall(name='recall'),\n",
    "      tf.keras.metrics.AUC(name='auc'),\n",
    "]\n",
    "\n",
    "feat = model.predict(np.random.random([1]+IMAGE_SIZE+[3]))\n",
    "D = feat.shape[1]\n",
    "\n",
    "#Modelo de red neuronal para clasificación binaria\n",
    "in3 = Input(shape=(D,))\n",
    "x = Dense(2048,activation='relu')(in3)\n",
    "x = Dropout(0.2)(x)\n",
    "x = Dense(1024,activation='relu')(x)\n",
    "x = Dropout(0.2)(x)\n",
    "x = Dense(512,activation='relu')(x)\n",
    "x = Dropout(0.2)(x)\n",
    "x = Dense(256,activation='relu')(x)\n",
    "x = Dropout(0.2)(x)\n",
    "x = Dense(1,activation='sigmoid')(x)\n",
    "\n",
    "mela_model = Model(in3,x)\n",
    "\n",
    "mela_model.compile(\n",
    "    loss='binary_crossentropy',\n",
    "    optimizer='adam',\n",
    "    metrics=METRICS\n",
    ")"
   ]
  },
  {
   "cell_type": "code",
   "execution_count": 8,
   "metadata": {},
   "outputs": [
    {
     "name": "stdout",
     "output_type": "stream",
     "text": [
      "Epoch 1/20\n",
      "55/55 [==============================] - 6s 60ms/step - loss: 1.7272 - tp: 2538.0000 - fp: 1045.0000 - tn: 2227.0000 - fn: 1106.0000 - accuracy: 0.6890 - precision: 0.7083 - recall: 0.6965 - auc: 0.7276 - val_loss: 0.3643 - val_tp: 769.0000 - val_fp: 133.0000 - val_tn: 685.0000 - val_fn: 142.0000 - val_accuracy: 0.8409 - val_precision: 0.8525 - val_recall: 0.8441 - val_auc: 0.9169\n",
      "Epoch 2/20\n",
      "55/55 [==============================] - 2s 41ms/step - loss: 0.2664 - tp: 3233.0000 - fp: 318.0000 - tn: 2954.0000 - fn: 411.0000 - accuracy: 0.8946 - precision: 0.9104 - recall: 0.8872 - auc: 0.9564 - val_loss: 0.1531 - val_tp: 825.0000 - val_fp: 9.0000 - val_tn: 809.0000 - val_fn: 86.0000 - val_accuracy: 0.9451 - val_precision: 0.9892 - val_recall: 0.9056 - val_auc: 0.9835\n",
      "Epoch 3/20\n",
      "55/55 [==============================] - 2s 42ms/step - loss: 0.0824 - tp: 3521.0000 - fp: 71.0000 - tn: 3201.0000 - fn: 123.0000 - accuracy: 0.9719 - precision: 0.9802 - recall: 0.9662 - auc: 0.9948 - val_loss: 0.1364 - val_tp: 846.0000 - val_fp: 1.0000 - val_tn: 817.0000 - val_fn: 65.0000 - val_accuracy: 0.9618 - val_precision: 0.9988 - val_recall: 0.9286 - val_auc: 0.9931\n",
      "Epoch 4/20\n",
      "55/55 [==============================] - 2s 41ms/step - loss: 0.0673 - tp: 3545.0000 - fp: 45.0000 - tn: 3227.0000 - fn: 99.0000 - accuracy: 0.9792 - precision: 0.9875 - recall: 0.9728 - auc: 0.9959 - val_loss: 0.1061 - val_tp: 891.0000 - val_fp: 45.0000 - val_tn: 773.0000 - val_fn: 20.0000 - val_accuracy: 0.9624 - val_precision: 0.9519 - val_recall: 0.9780 - val_auc: 0.9937\n",
      "Epoch 5/20\n",
      "55/55 [==============================] - 2s 41ms/step - loss: 0.0731 - tp: 3553.0000 - fp: 74.0000 - tn: 3198.0000 - fn: 91.0000 - accuracy: 0.9761 - precision: 0.9796 - recall: 0.9750 - auc: 0.9954 - val_loss: 0.1101 - val_tp: 851.0000 - val_fp: 1.0000 - val_tn: 817.0000 - val_fn: 60.0000 - val_accuracy: 0.9647 - val_precision: 0.9988 - val_recall: 0.9341 - val_auc: 0.9928\n",
      "Epoch 6/20\n",
      "55/55 [==============================] - 2s 41ms/step - loss: 0.0259 - tp: 3621.0000 - fp: 16.0000 - tn: 3256.0000 - fn: 23.0000 - accuracy: 0.9944 - precision: 0.9956 - recall: 0.9937 - auc: 0.9987 - val_loss: 0.0849 - val_tp: 874.0000 - val_fp: 1.0000 - val_tn: 817.0000 - val_fn: 37.0000 - val_accuracy: 0.9780 - val_precision: 0.9989 - val_recall: 0.9594 - val_auc: 0.9962\n",
      "Epoch 7/20\n",
      "55/55 [==============================] - 2s 42ms/step - loss: 0.0133 - tp: 3623.0000 - fp: 8.0000 - tn: 3264.0000 - fn: 21.0000 - accuracy: 0.9958 - precision: 0.9978 - recall: 0.9942 - auc: 0.9996 - val_loss: 0.0859 - val_tp: 878.0000 - val_fp: 1.0000 - val_tn: 817.0000 - val_fn: 33.0000 - val_accuracy: 0.9803 - val_precision: 0.9989 - val_recall: 0.9638 - val_auc: 0.9948\n",
      "Epoch 8/20\n",
      "55/55 [==============================] - 2s 42ms/step - loss: 0.0613 - tp: 3550.0000 - fp: 55.0000 - tn: 3217.0000 - fn: 94.0000 - accuracy: 0.9785 - precision: 0.9847 - recall: 0.9742 - auc: 0.9970 - val_loss: 0.0713 - val_tp: 890.0000 - val_fp: 16.0000 - val_tn: 802.0000 - val_fn: 21.0000 - val_accuracy: 0.9786 - val_precision: 0.9823 - val_recall: 0.9769 - val_auc: 0.9953\n",
      "Epoch 9/20\n",
      "55/55 [==============================] - 2s 41ms/step - loss: 0.0109 - tp: 3632.0000 - fp: 9.0000 - tn: 3263.0000 - fn: 12.0000 - accuracy: 0.9970 - precision: 0.9975 - recall: 0.9967 - auc: 0.9996 - val_loss: 0.0886 - val_tp: 881.0000 - val_fp: 1.0000 - val_tn: 817.0000 - val_fn: 30.0000 - val_accuracy: 0.9821 - val_precision: 0.9989 - val_recall: 0.9671 - val_auc: 0.9936\n",
      "Epoch 10/20\n",
      "55/55 [==============================] - 2s 42ms/step - loss: 0.0137 - tp: 3633.0000 - fp: 7.0000 - tn: 3265.0000 - fn: 11.0000 - accuracy: 0.9974 - precision: 0.9981 - recall: 0.9970 - auc: 0.9995 - val_loss: 0.1055 - val_tp: 882.0000 - val_fp: 6.0000 - val_tn: 812.0000 - val_fn: 29.0000 - val_accuracy: 0.9798 - val_precision: 0.9932 - val_recall: 0.9682 - val_auc: 0.9928\n",
      "Epoch 11/20\n",
      "55/55 [==============================] - 2s 45ms/step - loss: 0.0111 - tp: 3630.0000 - fp: 12.0000 - tn: 3260.0000 - fn: 14.0000 - accuracy: 0.9962 - precision: 0.9967 - recall: 0.9962 - auc: 0.9998 - val_loss: 0.1346 - val_tp: 871.0000 - val_fp: 1.0000 - val_tn: 817.0000 - val_fn: 40.0000 - val_accuracy: 0.9763 - val_precision: 0.9989 - val_recall: 0.9561 - val_auc: 0.9931\n",
      "Epoch 12/20\n",
      "55/55 [==============================] - 2s 45ms/step - loss: 0.0112 - tp: 3631.0000 - fp: 7.0000 - tn: 3265.0000 - fn: 13.0000 - accuracy: 0.9971 - precision: 0.9981 - recall: 0.9964 - auc: 0.9994 - val_loss: 0.0497 - val_tp: 898.0000 - val_fp: 1.0000 - val_tn: 817.0000 - val_fn: 13.0000 - val_accuracy: 0.9919 - val_precision: 0.9989 - val_recall: 0.9857 - val_auc: 0.9968\n",
      "Epoch 13/20\n",
      "55/55 [==============================] - 2s 42ms/step - loss: 0.0084 - tp: 3637.0000 - fp: 5.0000 - tn: 3267.0000 - fn: 7.0000 - accuracy: 0.9983 - precision: 0.9986 - recall: 0.9981 - auc: 0.9995 - val_loss: 0.1205 - val_tp: 879.0000 - val_fp: 1.0000 - val_tn: 817.0000 - val_fn: 32.0000 - val_accuracy: 0.9809 - val_precision: 0.9989 - val_recall: 0.9649 - val_auc: 0.9914\n",
      "Epoch 14/20\n",
      "55/55 [==============================] - 2s 42ms/step - loss: 0.0175 - tp: 3620.0000 - fp: 19.0000 - tn: 3253.0000 - fn: 24.0000 - accuracy: 0.9938 - precision: 0.9948 - recall: 0.9934 - auc: 0.9995 - val_loss: 0.1128 - val_tp: 863.0000 - val_fp: 1.0000 - val_tn: 817.0000 - val_fn: 48.0000 - val_accuracy: 0.9717 - val_precision: 0.9988 - val_recall: 0.9473 - val_auc: 0.9948\n",
      "Epoch 15/20\n",
      "55/55 [==============================] - 2s 42ms/step - loss: 0.0110 - tp: 3629.0000 - fp: 12.0000 - tn: 3260.0000 - fn: 15.0000 - accuracy: 0.9961 - precision: 0.9967 - recall: 0.9959 - auc: 0.9998 - val_loss: 0.1521 - val_tp: 876.0000 - val_fp: 1.0000 - val_tn: 817.0000 - val_fn: 35.0000 - val_accuracy: 0.9792 - val_precision: 0.9989 - val_recall: 0.9616 - val_auc: 0.9889\n",
      "Epoch 16/20\n",
      "55/55 [==============================] - 2s 43ms/step - loss: 0.0061 - tp: 3636.0000 - fp: 4.0000 - tn: 3268.0000 - fn: 8.0000 - accuracy: 0.9983 - precision: 0.9989 - recall: 0.9978 - auc: 0.9998 - val_loss: 0.0542 - val_tp: 897.0000 - val_fp: 2.0000 - val_tn: 816.0000 - val_fn: 14.0000 - val_accuracy: 0.9907 - val_precision: 0.9978 - val_recall: 0.9846 - val_auc: 0.9960\n",
      "Epoch 17/20\n",
      "55/55 [==============================] - 2s 42ms/step - loss: 0.0034 - tp: 3639.0000 - fp: 6.0000 - tn: 3266.0000 - fn: 5.0000 - accuracy: 0.9984 - precision: 0.9984 - recall: 0.9986 - auc: 1.0000 - val_loss: 0.1245 - val_tp: 880.0000 - val_fp: 1.0000 - val_tn: 817.0000 - val_fn: 31.0000 - val_accuracy: 0.9815 - val_precision: 0.9989 - val_recall: 0.9660 - val_auc: 0.9911\n",
      "Epoch 18/20\n",
      "55/55 [==============================] - 2s 42ms/step - loss: 0.0100 - tp: 3635.0000 - fp: 5.0000 - tn: 3267.0000 - fn: 9.0000 - accuracy: 0.9980 - precision: 0.9986 - recall: 0.9975 - auc: 0.9994 - val_loss: 0.0632 - val_tp: 886.0000 - val_fp: 1.0000 - val_tn: 817.0000 - val_fn: 25.0000 - val_accuracy: 0.9850 - val_precision: 0.9989 - val_recall: 0.9726 - val_auc: 0.9969\n",
      "Epoch 19/20\n",
      "55/55 [==============================] - 2s 42ms/step - loss: 0.0027 - tp: 3640.0000 - fp: 3.0000 - tn: 3269.0000 - fn: 4.0000 - accuracy: 0.9990 - precision: 0.9992 - recall: 0.9989 - auc: 1.0000 - val_loss: 0.1152 - val_tp: 883.0000 - val_fp: 1.0000 - val_tn: 817.0000 - val_fn: 28.0000 - val_accuracy: 0.9832 - val_precision: 0.9989 - val_recall: 0.9693 - val_auc: 0.9928\n",
      "Epoch 20/20\n",
      "55/55 [==============================] - 2s 43ms/step - loss: 0.0058 - tp: 3640.0000 - fp: 3.0000 - tn: 3269.0000 - fn: 4.0000 - accuracy: 0.9990 - precision: 0.9992 - recall: 0.9989 - auc: 0.9997 - val_loss: 0.0922 - val_tp: 882.0000 - val_fp: 1.0000 - val_tn: 817.0000 - val_fn: 29.0000 - val_accuracy: 0.9826 - val_precision: 0.9989 - val_recall: 0.9682 - val_auc: 0.9933\n"
     ]
    }
   ],
   "source": [
    "r3 = mela_model.fit(\n",
    "    X_train, Y_train,\n",
    "    batch_size=128,\n",
    "    epochs=20,\n",
    "    validation_data=(X_valid,Y_valid)\n",
    ")"
   ]
  },
  {
   "cell_type": "code",
   "execution_count": 9,
   "metadata": {},
   "outputs": [
    {
     "data": {
      "text/html": [
       "<div>\n",
       "<style scoped>\n",
       "    .dataframe tbody tr th:only-of-type {\n",
       "        vertical-align: middle;\n",
       "    }\n",
       "\n",
       "    .dataframe tbody tr th {\n",
       "        vertical-align: top;\n",
       "    }\n",
       "\n",
       "    .dataframe thead th {\n",
       "        text-align: right;\n",
       "    }\n",
       "</style>\n",
       "<table border=\"1\" class=\"dataframe\">\n",
       "  <thead>\n",
       "    <tr style=\"text-align: right;\">\n",
       "      <th></th>\n",
       "      <th>ID</th>\n",
       "      <th>riesgo</th>\n",
       "    </tr>\n",
       "  </thead>\n",
       "  <tbody>\n",
       "    <tr>\n",
       "      <th>0</th>\n",
       "      <td>c890196d33d6b569680c6f089bc83b95.jpg</td>\n",
       "      <td>0.5</td>\n",
       "    </tr>\n",
       "    <tr>\n",
       "      <th>1</th>\n",
       "      <td>93ead62bbb22ed4ef466d308fd32476e.jpg</td>\n",
       "      <td>0.5</td>\n",
       "    </tr>\n",
       "    <tr>\n",
       "      <th>2</th>\n",
       "      <td>752ba789481175a51f5f986edae665ac.jpg</td>\n",
       "      <td>0.5</td>\n",
       "    </tr>\n",
       "    <tr>\n",
       "      <th>3</th>\n",
       "      <td>d6428bef7cf365baaeab1584f65ac80b.jpg</td>\n",
       "      <td>0.5</td>\n",
       "    </tr>\n",
       "    <tr>\n",
       "      <th>4</th>\n",
       "      <td>baf3e9e642184e461cf9f7f5b9c0d06e.jpg</td>\n",
       "      <td>0.5</td>\n",
       "    </tr>\n",
       "  </tbody>\n",
       "</table>\n",
       "</div>"
      ],
      "text/plain": [
       "                                     ID  riesgo\n",
       "0  c890196d33d6b569680c6f089bc83b95.jpg     0.5\n",
       "1  93ead62bbb22ed4ef466d308fd32476e.jpg     0.5\n",
       "2  752ba789481175a51f5f986edae665ac.jpg     0.5\n",
       "3  d6428bef7cf365baaeab1584f65ac80b.jpg     0.5\n",
       "4  baf3e9e642184e461cf9f7f5b9c0d06e.jpg     0.5"
      ]
     },
     "execution_count": 9,
     "metadata": {},
     "output_type": "execute_result"
    }
   ],
   "source": [
    "test = pd.read_csv('sample.csv')\n",
    "test['ID']=test['ID']+'.jpg'\n",
    "test.head()"
   ]
  },
  {
   "cell_type": "code",
   "execution_count": 10,
   "metadata": {},
   "outputs": [],
   "source": [
    "path = './test/test/'\n",
    "import cv2\n",
    "prob = []\n",
    "for file in list(test['ID']):\n",
    "    img = cv2.imread(path+file)\n",
    "    img = cv2.cvtColor(img, cv2.COLOR_BGR2RGB)\n",
    "    \n",
    "    res = cv2.resize(img, dsize=(150,150))\n",
    "    x = image.img_to_array(res)\n",
    "    x = np.expand_dims(x, axis=0)\n",
    "    x = preprocess_input(x)\n",
    "\n",
    "    feat = model.predict(x)\n",
    "    mela = mela_model.predict(feat)\n",
    "    #print(mela)\n",
    "    prob.append(mela[0][0])"
   ]
  },
  {
   "cell_type": "code",
   "execution_count": 11,
   "metadata": {},
   "outputs": [
    {
     "data": {
      "text/html": [
       "<div>\n",
       "<style scoped>\n",
       "    .dataframe tbody tr th:only-of-type {\n",
       "        vertical-align: middle;\n",
       "    }\n",
       "\n",
       "    .dataframe tbody tr th {\n",
       "        vertical-align: top;\n",
       "    }\n",
       "\n",
       "    .dataframe thead th {\n",
       "        text-align: right;\n",
       "    }\n",
       "</style>\n",
       "<table border=\"1\" class=\"dataframe\">\n",
       "  <thead>\n",
       "    <tr style=\"text-align: right;\">\n",
       "      <th></th>\n",
       "      <th>ID</th>\n",
       "      <th>riesgo</th>\n",
       "    </tr>\n",
       "  </thead>\n",
       "  <tbody>\n",
       "    <tr>\n",
       "      <th>9933</th>\n",
       "      <td>a2ad05042cc442972546c81ebf564d17</td>\n",
       "      <td>0.999545</td>\n",
       "    </tr>\n",
       "    <tr>\n",
       "      <th>9934</th>\n",
       "      <td>1cfc9c0844fc8c39c6db211fb57a4b00</td>\n",
       "      <td>1.000000</td>\n",
       "    </tr>\n",
       "    <tr>\n",
       "      <th>9935</th>\n",
       "      <td>4e4deb3e76c2f32011f0c54a83864571</td>\n",
       "      <td>1.000000</td>\n",
       "    </tr>\n",
       "    <tr>\n",
       "      <th>9936</th>\n",
       "      <td>d4d51aaef0b34007705be379219f56f3</td>\n",
       "      <td>1.000000</td>\n",
       "    </tr>\n",
       "    <tr>\n",
       "      <th>9937</th>\n",
       "      <td>48ca1384ceab3f5261dedf80196cef9b</td>\n",
       "      <td>1.000000</td>\n",
       "    </tr>\n",
       "  </tbody>\n",
       "</table>\n",
       "</div>"
      ],
      "text/plain": [
       "                                    ID    riesgo\n",
       "9933  a2ad05042cc442972546c81ebf564d17  0.999545\n",
       "9934  1cfc9c0844fc8c39c6db211fb57a4b00  1.000000\n",
       "9935  4e4deb3e76c2f32011f0c54a83864571  1.000000\n",
       "9936  d4d51aaef0b34007705be379219f56f3  1.000000\n",
       "9937  48ca1384ceab3f5261dedf80196cef9b  1.000000"
      ]
     },
     "execution_count": 11,
     "metadata": {},
     "output_type": "execute_result"
    }
   ],
   "source": [
    "test_2 = pd.read_csv('sample.csv')\n",
    "test_2['riesgo'] = prob\n",
    "test_2.tail(5)"
   ]
  },
  {
   "cell_type": "code",
   "execution_count": 12,
   "metadata": {},
   "outputs": [],
   "source": [
    "test_2['riesgo']=1-test_2['riesgo']"
   ]
  },
  {
   "cell_type": "code",
   "execution_count": 13,
   "metadata": {},
   "outputs": [],
   "source": [
    "test_2.to_csv('test_VGG.csv', index=False)"
   ]
  },
  {
   "cell_type": "code",
   "execution_count": 14,
   "metadata": {},
   "outputs": [],
   "source": [
    "mela_model.save('vgg_model_150x150.h5')"
   ]
  },
  {
   "cell_type": "code",
   "execution_count": null,
   "metadata": {},
   "outputs": [],
   "source": []
  },
  {
   "cell_type": "code",
   "execution_count": null,
   "metadata": {},
   "outputs": [],
   "source": []
  }
 ],
 "metadata": {
  "kernelspec": {
   "display_name": "env_tesis",
   "language": "python",
   "name": "env_tesis"
  },
  "language_info": {
   "codemirror_mode": {
    "name": "ipython",
    "version": 3
   },
   "file_extension": ".py",
   "mimetype": "text/x-python",
   "name": "python",
   "nbconvert_exporter": "python",
   "pygments_lexer": "ipython3",
   "version": "3.8.5"
  }
 },
 "nbformat": 4,
 "nbformat_minor": 4
}
